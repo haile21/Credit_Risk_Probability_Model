{
 "cells": [
  {
   "metadata": {},
   "cell_type": "code",
   "outputs": [],
   "execution_count": null,
   "source": "%load_ext autoreload\n",
   "id": "702097fda3f30b67"
  },
  {
   "metadata": {},
   "cell_type": "code",
   "outputs": [],
   "execution_count": null,
   "source": "%autoreload 2\n",
   "id": "bd58e60ee5c65f25"
  },
  {
   "metadata": {},
   "cell_type": "code",
   "outputs": [],
   "execution_count": null,
   "source": [
    "import os\n",
    "import sys\n",
    "import importlib\n",
    "\n",
    "sys.path.append(os.path.abspath('../scripts'))\n",
    "\n",
    "from Feature_Engineering import Feature_Engineering"
   ],
   "id": "71dfc5a7fbc8b27f"
  },
  {
   "metadata": {},
   "cell_type": "code",
   "outputs": [],
   "execution_count": null,
   "source": [
    "from Feature_Engineering import (\n",
    "    Feature_Engineering,\n",
    "    extract_features,\n",
    "    creating_aggregate_features,\n",
    "    Standardize_numeical_features,\n",
    "    check_missing_values,\n",
    "    constructinf_RFMS_scores,\n",
    "    assign_good_and_bad_lables\n",
    ") "
   ],
   "id": "e48c37cac910be40"
  },
  {
   "metadata": {},
   "cell_type": "code",
   "outputs": [],
   "execution_count": null,
   "source": [
    "path = '../data/data.csv'\n",
    "fe = Feature_Engineering(path)\n",
    "\n",
    "fe.data.head()"
   ],
   "id": "a6cd10b0f9edf9d7"
  },
  {
   "metadata": {},
   "cell_type": "code",
   "outputs": [],
   "execution_count": null,
   "source": "fe.total_transaction_amount()\n",
   "id": "3e1cc7bdebc22ebe"
  },
  {
   "metadata": {},
   "cell_type": "code",
   "outputs": [],
   "execution_count": null,
   "source": "fe.average_transaction_amount()\n",
   "id": "3d5370f5ee7db85c"
  },
  {
   "metadata": {},
   "cell_type": "code",
   "outputs": [],
   "execution_count": null,
   "source": [
    " \n",
    "data_with_aggregates = creating_aggregate_features(fe.data)\n",
    "data_with_aggregates.head()"
   ],
   "id": "ec29d9ee519c9d6a"
  },
  {
   "metadata": {},
   "cell_type": "code",
   "outputs": [],
   "execution_count": null,
   "source": [
    "# Call the standalone function to create aggregated features\n",
    "aggregates_data= creating_aggregate_features(fe.data)"
   ],
   "id": "79c1b68ebe638722"
  },
  {
   "metadata": {},
   "cell_type": "code",
   "outputs": [],
   "execution_count": null,
   "source": [
    "aggregates_data.head()\n",
    "data_with_features = extract_features(aggregates_data)\n"
   ],
   "id": "becb2d60945f1593"
  },
  {
   "metadata": {},
   "cell_type": "code",
   "outputs": [],
   "execution_count": null,
   "source": "data_with_features.head()\n",
   "id": "a4558c9b4e49a345"
  },
  {
   "metadata": {},
   "cell_type": "code",
   "outputs": [],
   "execution_count": null,
   "source": [
    "ef = data_with_features\n",
    "print(ef.dtypes)"
   ],
   "id": "cd667e22e4999311"
  },
  {
   "metadata": {},
   "cell_type": "code",
   "outputs": [],
   "execution_count": null,
   "source": [
    "# Identify categorical columns in the 'ef' DataFrame\n",
    "categorical_columns = data_with_features.select_dtypes(include=['object', 'category']).columns\n",
    "\n",
    "# Print the list of categorical columns\n",
    "print(\"Categorical columns:\", categorical_columns)"
   ],
   "id": "d49b9e73f662597e"
  },
  {
   "metadata": {},
   "cell_type": "code",
   "outputs": [],
   "execution_count": null,
   "source": "data_encoded = fe.encoding(data_with_features)\n",
   "id": "2a924e22fc09060a"
  },
  {
   "metadata": {},
   "cell_type": "code",
   "outputs": [],
   "execution_count": null,
   "source": "data_encoded.head()\n",
   "id": "279b65351670ad49"
  },
  {
   "metadata": {},
   "cell_type": "code",
   "outputs": [],
   "execution_count": null,
   "source": [
    "#from Feature_Engineering import check_missing_values\n",
    "\n",
    "# Assuming data_encoded is your DataFrame\n",
    "missing_values = check_missing_values(data_encoded)\n",
    "print(missing_values)"
   ],
   "id": "2729a325c7b5f7d5"
  },
  {
   "metadata": {},
   "cell_type": "code",
   "outputs": [],
   "execution_count": null,
   "source": [
    "# Fill missing values in 'Std_Transaction_Amount' with zero\n",
    "data_encoded['Std_Transaction_Amount'].fillna(0, inplace=True)"
   ],
   "id": "e909b1a94f579daa"
  },
  {
   "metadata": {},
   "cell_type": "code",
   "outputs": [],
   "execution_count": null,
   "source": [
    "# Recheck for missing values\n",
    "missing_values = check_missing_values(data_encoded)\n",
    "print(missing_values)"
   ],
   "id": "5a862f869970e7a4"
  },
  {
   "metadata": {},
   "cell_type": "code",
   "outputs": [],
   "execution_count": null,
   "source": [
    "# Standardize numerical features and display\n",
    "data_standardized = Standardize_numeical_features(data_encoded)"
   ],
   "id": "f4aa0dfd11fcab35"
  },
  {
   "metadata": {},
   "cell_type": "code",
   "outputs": [],
   "execution_count": null,
   "source": "data_standardized.head()\n",
   "id": "d685f9d9e98367dd"
  },
  {
   "metadata": {},
   "cell_type": "code",
   "outputs": [],
   "execution_count": null,
   "source": "data = constructinf_RFMS_scores(data_standardized)\n",
   "id": "2bbbb8a69475e402"
  },
  {
   "metadata": {},
   "cell_type": "code",
   "outputs": [],
   "execution_count": null,
   "source": "data.head()\n",
   "id": "404701453ac939e8"
  },
  {
   "metadata": {},
   "cell_type": "code",
   "outputs": [],
   "execution_count": null,
   "source": "data.to_csv('../data/proceced_data.csv')",
   "id": "49b2aa53d366933c"
  }
 ],
 "metadata": {
  "kernelspec": {
   "display_name": "Python 3",
   "language": "python",
   "name": "python3"
  },
  "language_info": {
   "codemirror_mode": {
    "name": "ipython",
    "version": 2
   },
   "file_extension": ".py",
   "mimetype": "text/x-python",
   "name": "python",
   "nbconvert_exporter": "python",
   "pygments_lexer": "ipython2",
   "version": "2.7.6"
  }
 },
 "nbformat": 4,
 "nbformat_minor": 5
}
