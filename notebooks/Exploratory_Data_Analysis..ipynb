{
 "cells": [
  {
   "metadata": {},
   "cell_type": "code",
   "outputs": [],
   "execution_count": null,
   "source": [
    "import os , sys\n",
    "sys.path.append(os.path.abspath('../scripts'))"
   ],
   "id": "a7ca18b14cc7ff1b"
  },
  {
   "metadata": {},
   "cell_type": "code",
   "outputs": [],
   "execution_count": null,
   "source": "from Eda import CreditScoringEDA",
   "id": "2a81ce4886ecbfb7"
  },
  {
   "metadata": {},
   "cell_type": "code",
   "outputs": [],
   "execution_count": null,
   "source": [
    "path = '../data/data.csv'\n",
    "eda = CreditScoringEDA(path)\n",
    "\n",
    "\n",
    "\n",
    "\n",
    "# Access the data directly\n",
    "data = eda.data\n",
    "data.head()"
   ],
   "id": "5518931ce6a15ec7"
  },
  {
   "metadata": {},
   "cell_type": "code",
   "outputs": [],
   "execution_count": null,
   "source": "eda.data_overview()\n",
   "id": "75ff441a050e2fc1"
  },
  {
   "metadata": {},
   "cell_type": "code",
   "outputs": [],
   "execution_count": null,
   "source": "eda.summary_statistics()\n",
   "id": "4bd844214d287c8c"
  },
  {
   "metadata": {},
   "cell_type": "code",
   "outputs": [],
   "execution_count": null,
   "source": "eda.distribution_of_numerical_features()\n",
   "id": "9a871a34bbeb38b2"
  },
  {
   "metadata": {},
   "cell_type": "code",
   "outputs": [],
   "execution_count": null,
   "source": "eda.plot_categorical_distribution()\n",
   "id": "c53ca60bd5e39566"
  },
  {
   "metadata": {},
   "cell_type": "code",
   "outputs": [],
   "execution_count": null,
   "source": "eda.correlation_analysis()\n",
   "id": "2f5677dd909bcf5d"
  },
  {
   "metadata": {},
   "cell_type": "code",
   "outputs": [],
   "execution_count": null,
   "source": [
    "# Call the identify_missing_values method to detect missing values\n",
    "eda.identify_missing_values()"
   ],
   "id": "dbd23de2e716d774"
  },
  {
   "metadata": {},
   "cell_type": "code",
   "outputs": [],
   "execution_count": null,
   "source": "eda.plot_outliers()\n",
   "id": "730171af191c7a25"
  }
 ],
 "metadata": {
  "kernelspec": {
   "display_name": "Python 3",
   "language": "python",
   "name": "python3"
  },
  "language_info": {
   "codemirror_mode": {
    "name": "ipython",
    "version": 2
   },
   "file_extension": ".py",
   "mimetype": "text/x-python",
   "name": "python",
   "nbconvert_exporter": "python",
   "pygments_lexer": "ipython2",
   "version": "2.7.6"
  }
 },
 "nbformat": 4,
 "nbformat_minor": 5
}
