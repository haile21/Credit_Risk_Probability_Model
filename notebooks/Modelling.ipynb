{
 "cells": [
  {
   "cell_type": "code",
   "execution_count": null,
   "id": "initial_id",
   "metadata": {
    "collapsed": true
   },
   "outputs": [],
   "source": [
    "import sys , os\n",
    "import pandas as pd\n",
    "import numpy as np\n",
    "sys.path.append(os.path.abspath('../scripts'))"
   ]
  },
  {
   "metadata": {},
   "cell_type": "code",
   "outputs": [],
   "execution_count": null,
   "source": "import Modelling as mc\n",
   "id": "ee1e628d939d7645"
  },
  {
   "metadata": {},
   "cell_type": "code",
   "outputs": [],
   "execution_count": null,
   "source": [
    "path = '../data/proceced_data.csv'  \n",
    "data = mc.load_data(path)\n",
    "data.head()"
   ],
   "id": "a8df3c547529c677"
  },
  {
   "metadata": {},
   "cell_type": "code",
   "outputs": [],
   "execution_count": null,
   "source": [
    "%load_ext autoreload\n",
    "%autoreload 2\n",
    "\n",
    "data = mc.preprocess_data(data)"
   ],
   "id": "b153b907f9f7f40e"
  },
  {
   "metadata": {},
   "cell_type": "code",
   "outputs": [],
   "execution_count": null,
   "source": [
    "if data is not None:\n",
    "    # Replace infinite values with NaN\n",
    "    data.replace([np.inf, -np.inf], np.nan, inplace=True)\n",
    "\n",
    "    # Replace NaN values with the median of the respective column\n",
    "    for column in data.columns:\n",
    "        if data[column].isnull().sum() > 0:\n",
    "            data[column].fillna(data[column].median(), inplace=True)\n",
    "            print(f\"Missing values in '{column}' after imputation with median:\\n\", data[column].isnull().sum())\n",
    "\n",
    "    # Verify there are no more infinite or very large values\n",
    "    infinite_values_post = data.isin([np.inf, -np.inf]).sum()\n",
    "    large_values_post = (data.abs() > np.finfo(np.float64).max).sum()\n",
    "\n",
    "    print(f\"Infinite values after cleaning: {infinite_values_post.sum()}\")\n",
    "    print(f\"Very large values after cleaning: {large_values_post.sum()}\")\n",
    "else:\n",
    "    print(\"Failed to handle infinite or very large values as preprocessing step failed\")"
   ],
   "id": "505632bff0d0b701"
  },
  {
   "metadata": {},
   "cell_type": "code",
   "outputs": [],
   "execution_count": null,
   "source": "data.head()\n",
   "id": "6df13063f50bb508"
  },
  {
   "metadata": {},
   "cell_type": "code",
   "outputs": [],
   "execution_count": null,
   "source": "X_train , X_test , y_train , y_test  = mc.split_the_data(data)\n",
   "id": "bf081df564bede42"
  },
  {
   "metadata": {},
   "cell_type": "code",
   "outputs": [],
   "execution_count": null,
   "source": "X_train.head()\n",
   "id": "40f644eef85c8f24"
  },
  {
   "metadata": {},
   "cell_type": "code",
   "outputs": [],
   "execution_count": null,
   "source": "y_train.head()\n",
   "id": "810e48432d0eacc5"
  },
  {
   "metadata": {},
   "cell_type": "code",
   "outputs": [],
   "execution_count": null,
   "source": "logistic_model , random_forest_model = mc.tain_the_models(X_train,y_train,X_test) \n",
   "id": "4440f8ce07532bb2"
  },
  {
   "metadata": {},
   "cell_type": "code",
   "outputs": [],
   "execution_count": null,
   "source": "logistic_model\n",
   "id": "a9f5e6e598abc8bc"
  },
  {
   "metadata": {},
   "cell_type": "code",
   "outputs": [],
   "execution_count": null,
   "source": "random_forest_model\n",
   "id": "5239ce8fcdf12537"
  },
  {
   "metadata": {},
   "cell_type": "code",
   "outputs": [],
   "execution_count": null,
   "source": "mc.evaluate_models(random_forest_model,X_test,y_test)\n",
   "id": "f2f7f025703ec1f4"
  },
  {
   "metadata": {},
   "cell_type": "code",
   "outputs": [],
   "execution_count": null,
   "source": "mc.evaluate_models(random_forest_model,X_test,y_test)\n",
   "id": "cf3b47e457ee41cb"
  },
  {
   "metadata": {},
   "cell_type": "code",
   "outputs": [],
   "execution_count": null,
   "source": "mc.evaluate_models(logistic_model,X_test_scaled,y_test)\n",
   "id": "35552c36026682c5"
  },
  {
   "metadata": {},
   "cell_type": "code",
   "outputs": [],
   "execution_count": null,
   "source": [
    "from sklearn.model_selection import cross_val_score\n",
    "\n",
    "scores_rf = cross_val_score(random_forest_model, X_train, y_train, cv=5)\n",
    "scores_lr = cross_val_score(logistic_model, X_train_scaled, y_train, cv=5)\n",
    "\n",
    "print(\"Random Forest CV Accuracy: \", scores_rf.mean())\n",
    "print(\"Logistic Regression CV Accuracy: \", scores_lr.mean())"
   ],
   "id": "4bc7839f1869b79d"
  },
  {
   "metadata": {},
   "cell_type": "code",
   "outputs": [],
   "execution_count": null,
   "source": [
    "# Check data shape and type\n",
    "print(\"X_train shape:\", X_train.shape)\n",
    "print(\"y_train shape:\", y_train.shape)\n",
    "print(\"Data type of X_train:\", type(X_train))\n",
    "print(\"Data type of y_train:\", type(y_train))\n",
    " "
   ],
   "id": "fcb796e62952f1bd"
  },
  {
   "metadata": {},
   "cell_type": "code",
   "outputs": [],
   "execution_count": null,
   "source": "from Modelling import define_hyperparameter_grids, perform_grid_search\n",
   "id": "36cb42017aaad524"
  },
  {
   "metadata": {},
   "cell_type": "code",
   "outputs": [],
   "execution_count": null,
   "source": [
    "models = {\n",
    "    \"Logistic Regression\": logistic_model,\n",
    "    \"Random Forest\": random_forest_model\n",
    "}"
   ],
   "id": "d646e5a1d5dbe483"
  },
  {
   "metadata": {},
   "cell_type": "code",
   "outputs": [],
   "execution_count": null,
   "source": "param_grids = define_hyperparameter_grids()\n",
   "id": "ed47c1c2f6358f4a"
  },
  {
   "metadata": {},
   "cell_type": "code",
   "outputs": [],
   "execution_count": null,
   "source": "best_models = perform_grid_search(models, param_grids, X_train, y_train)\n",
   "id": "19e4daf6c250b867"
  },
  {
   "metadata": {},
   "cell_type": "code",
   "outputs": [],
   "execution_count": null,
   "source": [
    "from Modelling import evaluate_best_models\n",
    "\n",
    "# Evaluate the best models\n",
    "test_results = evaluate_best_models(best_models, X_test, y_test)\n",
    "\n",
    "# Print the results in a DataFrame for better readability\n",
    "print(pd.DataFrame(test_results).T)\n"
   ],
   "id": "5c57048c9f167f9"
  },
  {
   "metadata": {},
   "cell_type": "code",
   "outputs": [],
   "execution_count": null,
   "source": [
    "from sklearn.metrics import confusion_matrix, ConfusionMatrixDisplay\n",
    "\n",
    "cm = confusion_matrix(y_test, logistic_model.predict(X_test_scaled))\n",
    "disp = ConfusionMatrixDisplay(confusion_matrix=cm)\n",
    "disp.plot()\n",
    "\n",
    "cm = confusion_matrix(y_test, random_forest_model.predict(X_test))\n",
    "disp = ConfusionMatrixDisplay(confusion_matrix=cm)\n",
    "disp.plot()"
   ],
   "id": "2fc5eefcb0f95654"
  },
  {
   "metadata": {},
   "cell_type": "code",
   "outputs": [],
   "execution_count": null,
   "source": [
    "import matplotlib.pyplot as plt\n",
    "import numpy as np\n",
    "\n",
    "importance = random_forest_model.feature_importances_\n",
    "indices = np.argsort(importance)[::-1]\n",
    "\n",
    "plt.figure(figsize=(10, 6))\n",
    "plt.title(\"Feature Importance in Random Forest\")\n",
    "plt.bar(range(X_train.shape[1]), importance[indices], align=\"center\")\n",
    "plt.xticks(range(X_train.shape[1]), X_train.columns[indices], rotation=90)\n",
    "plt.show()"
   ],
   "id": "5bc89296f1f7259f"
  },
  {
   "metadata": {},
   "cell_type": "code",
   "outputs": [],
   "execution_count": null,
   "source": [
    "# Evaluate Random Forest\n",
    "print(\"Random Forest CV Accuracy: \", scores_rf.mean())\n",
    "\n",
    "# Evaluate Logistic Regression\n",
    "print(\"Logistic Regression CV Accuracy: \", scores_lr.mean())"
   ],
   "id": "3384b2b92e2521e9"
  },
  {
   "metadata": {},
   "cell_type": "code",
   "outputs": [],
   "execution_count": null,
   "source": [
    "# Evaluate Random Forest\n",
    "print(\"Random Forest CV Accuracy: \", scores_rf.mean())\n",
    "\n",
    "# Evaluate Logistic Regression\n",
    "print(\"Logistic Regression CV Accuracy: \", scores_lr.mean())"
   ],
   "id": "a6fb3ba597750e7d"
  }
 ],
 "metadata": {
  "kernelspec": {
   "display_name": "Python 3",
   "language": "python",
   "name": "python3"
  },
  "language_info": {
   "codemirror_mode": {
    "name": "ipython",
    "version": 2
   },
   "file_extension": ".py",
   "mimetype": "text/x-python",
   "name": "python",
   "nbconvert_exporter": "python",
   "pygments_lexer": "ipython2",
   "version": "2.7.6"
  }
 },
 "nbformat": 4,
 "nbformat_minor": 5
}
